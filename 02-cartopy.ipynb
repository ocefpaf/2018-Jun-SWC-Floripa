{
 "cells": [
  {
   "cell_type": "markdown",
   "metadata": {
    "slideshow": {
     "slide_type": "slide"
    }
   },
   "source": [
    "## [Cartopy](http://scitools.org.uk/cartopy/)\n",
    "\n",
    "- Cartopy é um pacote Python que auxilia na criação de mapas.\n",
    "- Usa o matplotlib *under the hood*.\n",
    "- Adequado para análises e visualização de dados geoespaciais."
   ]
  },
  {
   "cell_type": "markdown",
   "metadata": {
    "slideshow": {
     "slide_type": "slide"
    }
   },
   "source": [
    "## Diferente to basemap a API é integrada ao do matplotlib"
   ]
  },
  {
   "cell_type": "code",
   "execution_count": null,
   "metadata": {
    "slideshow": {
     "slide_type": "fragment"
    }
   },
   "outputs": [],
   "source": [
    "%matplotlib inline\n",
    "\n",
    "import matplotlib.pyplot as plt\n",
    "import cartopy.crs as ccrs\n",
    "\n",
    "ax = plt.axes(projection=ccrs.PlateCarree())\n",
    "c = ax.coastlines()"
   ]
  },
  {
   "cell_type": "markdown",
   "metadata": {
    "slideshow": {
     "slide_type": "slide"
    }
   },
   "source": [
    "## Exercício: explore os métodos extras que o cartopy adicionou no objeto `ax` e refaça o mapa acima reduzindo a região."
   ]
  },
  {
   "cell_type": "markdown",
   "metadata": {
    "slideshow": {
     "slide_type": "fragment"
    }
   },
   "source": [
    "```python\n",
    "ax0 = plt.axes()\n",
    "ax1 = plt.axes(projection=ccrs.PlateCarree())\n",
    "\n",
    "mpl = [obj for obj in dir(ax0) if not obj.startswith('_')]\n",
    "cart = [obj for obj in dir(ax1) if not obj.startswith('_')]\n",
    "\n",
    "set(mpl).symmetric_difference(cart)\n",
    "```"
   ]
  },
  {
   "cell_type": "markdown",
   "metadata": {
    "slideshow": {
     "slide_type": "slide"
    }
   },
   "source": [
    "## Podemos adicionar feições usando `features`"
   ]
  },
  {
   "cell_type": "code",
   "execution_count": null,
   "metadata": {
    "slideshow": {
     "slide_type": "fragment"
    }
   },
   "outputs": [],
   "source": [
    "import cartopy.feature as cfeature\n",
    "\n",
    "ax = plt.axes(projection=ccrs.PlateCarree())\n",
    "\n",
    "coastline = cfeature.GSHHSFeature(scale='coarse')\n",
    "c = ax.add_feature(coastline)"
   ]
  },
  {
   "cell_type": "code",
   "execution_count": null,
   "metadata": {
    "slideshow": {
     "slide_type": "slide"
    }
   },
   "outputs": [],
   "source": [
    "import cartopy.feature as cfeature\n",
    "\n",
    "ax = plt.axes(projection=ccrs.PlateCarree())\n",
    "\n",
    "land = cfeature.LAND\n",
    "c = ax.add_feature(land, facecolor='grey')"
   ]
  },
  {
   "cell_type": "markdown",
   "metadata": {
    "slideshow": {
     "slide_type": "slide"
    }
   },
   "source": [
    "## Exercício: refaça o mapa reduzido do primeiro exercíco usando linhas de costa da `GSHHS` e muda a resolução de `'coarse'` para algo \"melhor\" e adicione a `feature` `land`."
   ]
  },
  {
   "cell_type": "code",
   "execution_count": null,
   "metadata": {
    "scrolled": true,
    "slideshow": {
     "slide_type": "fragment"
    }
   },
   "outputs": [],
   "source": [
    "projection = {'projection': ccrs.PlateCarree()}\n",
    "\n",
    "fig, ax = plt.subplots(subplot_kw=projection)\n",
    "coastline = cfeature.GSHHSFeature(scale='coarse')\n",
    "c = ax.add_feature(coastline)"
   ]
  },
  {
   "cell_type": "markdown",
   "metadata": {
    "slideshow": {
     "slide_type": "slide"
    }
   },
   "source": [
    "## cartopy é o primeiro software a resolver adequadamente o problema da *dateline*"
   ]
  },
  {
   "cell_type": "code",
   "execution_count": null,
   "metadata": {
    "slideshow": {
     "slide_type": "fragment"
    }
   },
   "outputs": [],
   "source": [
    "ax = plt.axes(projection=ccrs.PlateCarree())\n",
    "ax.coastlines()\n",
    "\n",
    "kw = {'linewidth': 4, 'color': 'g', 'transform': ccrs.Geodetic()}\n",
    "ax.plot([-100, 50], [25, 25], label='Geodetic1', **kw)\n",
    "ax.plot([-38, 147], [-13, -42], label='Geodetic1', **kw)\n",
    "\n",
    "kw.update({'color': 'b', 'transform': ccrs.PlateCarree()})\n",
    "ax.plot([-100, 50], [25, 25], label='PlateCarree1', **kw)\n",
    "ax.plot([-38, 147], [-13, -42], label='PlateCarree2', **kw)\n",
    "\n",
    "leg = ax.legend(loc=(1.05, 0.5))"
   ]
  },
  {
   "cell_type": "markdown",
   "metadata": {
    "slideshow": {
     "slide_type": "slide"
    }
   },
   "source": [
    "## Adding gridlines"
   ]
  },
  {
   "cell_type": "code",
   "execution_count": null,
   "metadata": {
    "slideshow": {
     "slide_type": "fragment"
    }
   },
   "outputs": [],
   "source": [
    "ax = plt.axes(projection=ccrs.Mercator())\n",
    "ax.coastlines()\n",
    "\n",
    "gl = ax.gridlines(draw_labels=True)"
   ]
  },
  {
   "cell_type": "markdown",
   "metadata": {
    "slideshow": {
     "slide_type": "slide"
    }
   },
   "source": [
    "## Exercício: \n",
    "Customize gridlines do exemplo abaixo  usando o `LONGITUDE_FORMATTER` e modifique os *tickmarker* da latitude para mostrar os limites máximo, -30, +30 e 0"
   ]
  },
  {
   "cell_type": "code",
   "execution_count": null,
   "metadata": {
    "slideshow": {
     "slide_type": "fragment"
    }
   },
   "outputs": [],
   "source": [
    "import matplotlib.ticker as mticker\n",
    "from cartopy.mpl.gridliner import LATITUDE_FORMATTER\n",
    "\n",
    "ax = plt.axes(projection=ccrs.PlateCarree())\n",
    "ax.coastlines()\n",
    "gl = ax.gridlines(draw_labels=True)\n",
    "\n",
    "gl.xlocator = mticker.FixedLocator([-180, -45, 0, 45, 180])\n",
    "gl.yformatter = LATITUDE_FORMATTER"
   ]
  },
  {
   "cell_type": "markdown",
   "metadata": {
    "slideshow": {
     "slide_type": "slide"
    }
   },
   "source": [
    "## Re-utilizando código (uso de funções)"
   ]
  },
  {
   "cell_type": "code",
   "execution_count": null,
   "metadata": {
    "slideshow": {
     "slide_type": "slide"
    }
   },
   "outputs": [],
   "source": [
    "import numpy as np\n",
    "import cartopy.crs as ccrs\n",
    "import cartopy.feature as cfeature\n",
    "\n",
    "def make_cartopy(projection=ccrs.Robinson(),\n",
    "                 figsize=(6, 4),\n",
    "                 resolution='110m'):\n",
    "    fig, ax = plt.subplots(\n",
    "        figsize=figsize,\n",
    "        subplot_kw={'projection': projection}\n",
    "    )\n",
    "    ax.set_global()\n",
    "    ax.coastlines(resolution=resolution, color='k')\n",
    "    gl = ax.gridlines(draw_labels=False)\n",
    "    ax.add_feature(cfeature.LAND, facecolor='0.75')\n",
    "    return fig, ax"
   ]
  },
  {
   "cell_type": "code",
   "execution_count": null,
   "metadata": {
    "slideshow": {
     "slide_type": "slide"
    }
   },
   "outputs": [],
   "source": [
    "from pathlib import Path\n",
    "lon, lat = np.loadtxt(\n",
    "    Path('data', 'challenger_path.csv'),\n",
    "    delimiter=',',\n",
    "    unpack=True\n",
    ")\n",
    "\n",
    "fig, ax = make_cartopy(projection=ccrs.Robinson(), resolution='110m')\n",
    "\n",
    "kw = {'color': '#FF9900', 'linestyle': '-', 'linewidth': 1.5}\n",
    "line = ax.plot(lon, lat, transform=ccrs.Geodetic(), **kw)"
   ]
  },
  {
   "cell_type": "markdown",
   "metadata": {
    "slideshow": {
     "slide_type": "slide"
    }
   },
   "source": [
    "## io.img_tiles"
   ]
  },
  {
   "cell_type": "code",
   "execution_count": null,
   "metadata": {
    "slideshow": {
     "slide_type": "fragment"
    }
   },
   "outputs": [],
   "source": [
    "import cartopy.io.img_tiles as cimgt\n",
    "\n",
    "\n",
    "def request_map(map_request, figsize=(8, 8), zoom=8):\n",
    "    fig, ax = plt.subplots(figsize=figsize,\n",
    "                           subplot_kw={'projection': map_request.crs})\n",
    "    ax.set_extent([-39, -38.25, -13.25, -12.5])\n",
    "    ax.add_image(map_request, zoom)\n",
    "    return fig, ax"
   ]
  },
  {
   "cell_type": "code",
   "execution_count": null,
   "metadata": {
    "slideshow": {
     "slide_type": "slide"
    }
   },
   "outputs": [],
   "source": [
    "fig, ax = request_map(cimgt.GoogleTiles(), zoom=10)"
   ]
  },
  {
   "cell_type": "markdown",
   "metadata": {
    "slideshow": {
     "slide_type": "slide"
    }
   },
   "source": [
    "## Exercício:\n",
    "\n",
    "Tente outros *tiles*"
   ]
  },
  {
   "cell_type": "markdown",
   "metadata": {
    "slideshow": {
     "slide_type": "fragment"
    }
   },
   "source": [
    "```python\n",
    "cimgt.OSM(<shift+tab>)\n",
    "```"
   ]
  },
  {
   "cell_type": "markdown",
   "metadata": {
    "slideshow": {
     "slide_type": "slide"
    }
   },
   "source": [
    "## Acessando dados do [Natural Earth](http://www.naturalearthdata.com/) diretamente"
   ]
  },
  {
   "cell_type": "code",
   "execution_count": null,
   "metadata": {
    "slideshow": {
     "slide_type": "slide"
    }
   },
   "outputs": [],
   "source": [
    "import cartopy.crs as ccrs\n",
    "import matplotlib.pyplot as plt\n",
    "from cartopy.feature import NaturalEarthFeature, LAND, COASTLINE\n",
    "from cartopy.mpl.gridliner import LONGITUDE_FORMATTER, LATITUDE_FORMATTER\n",
    "\n",
    "\n",
    "def brazil_states(projection=ccrs.PlateCarree()):\n",
    "    fig, ax = plt.subplots(\n",
    "        figsize=(8, 6), subplot_kw={'projection': projection}\n",
    "    )\n",
    "    ax.set_extent([-82, -32, -45, 10])\n",
    "    ax.stock_img()\n",
    "    ax.add_feature(LAND)\n",
    "    ax.add_feature(COASTLINE)\n",
    "    gl = ax.gridlines(draw_labels=True)\n",
    "    gl.xlabels_top = False\n",
    "    gl.ylabels_right = False\n",
    "    gl.xformatter = LONGITUDE_FORMATTER\n",
    "    gl.yformatter = LATITUDE_FORMATTER\n",
    "    return fig, ax"
   ]
  },
  {
   "cell_type": "code",
   "execution_count": null,
   "metadata": {
    "slideshow": {
     "slide_type": "slide"
    }
   },
   "outputs": [],
   "source": [
    "fig, ax = brazil_states()\n",
    "states = NaturalEarthFeature(\n",
    "    category='cultural',\n",
    "    scale='50m',\n",
    "    facecolor='none',\n",
    "    name='admin_1_states_provinces_shp'\n",
    ")\n",
    "feat = ax.add_feature(states, edgecolor='gray')"
   ]
  },
  {
   "cell_type": "markdown",
   "metadata": {
    "slideshow": {
     "slide_type": "slide"
    }
   },
   "source": [
    "## Plotando sobre uma imagem"
   ]
  },
  {
   "cell_type": "code",
   "execution_count": null,
   "metadata": {
    "slideshow": {
     "slide_type": "subslide"
    }
   },
   "outputs": [],
   "source": [
    "lon = [-40.77, -40.51, -40.30, -40.23, -40.13, -40.06, -39.99,\n",
    "       -39.87, -39.72, -39.52, -39.32, -39.11, -38.91, -38.71]\n",
    "lat = [-21.29, -21.39, -21.48, -21.51, -21.56, -21.58, -21.62,\n",
    "       -21.69, -21.76, -21.86, -21.96, -22.08, -22.15, -22.25]"
   ]
  },
  {
   "cell_type": "code",
   "execution_count": null,
   "metadata": {
    "slideshow": {
     "slide_type": "slide"
    }
   },
   "outputs": [],
   "source": [
    "fig, ax = plt.subplots(\n",
    "    figsize=(8, 8),\n",
    "    subplot_kw={'projection': ccrs.PlateCarree()},\n",
    ")\n",
    "img = plt.imread('data/AVHRR.png')\n",
    "img_extent = (-48, -32, -30, -18)\n",
    "\n",
    "ax.imshow(img, origin='upper', extent=img_extent,\n",
    "          transform=ccrs.PlateCarree())\n",
    "ax.coastlines(resolution='50m', color='black', linewidth=1)\n",
    "\n",
    "lines = ax.plot(lon, lat, 'cornflowerblue', marker='*',\n",
    "                markersize=10)"
   ]
  },
  {
   "cell_type": "markdown",
   "metadata": {
    "slideshow": {
     "slide_type": "slide"
    }
   },
   "source": [
    "## Desafio (para casa)\n",
    "\n",
    "Faça o download de uma carta naútica e plote algo sobre ela como fizemos acima."
   ]
  },
  {
   "cell_type": "markdown",
   "metadata": {
    "slideshow": {
     "slide_type": "slide"
    }
   },
   "source": [
    "## Lendo shapefiles"
   ]
  },
  {
   "cell_type": "code",
   "execution_count": null,
   "metadata": {
    "slideshow": {
     "slide_type": "slide"
    }
   },
   "outputs": [],
   "source": [
    "import matplotlib.pyplot as plt\n",
    "\n",
    "import cartopy.crs as ccrs\n",
    "from cartopy.io import shapereader\n",
    "from cartopy.mpl.gridliner import (LONGITUDE_FORMATTER,\n",
    "                                   LATITUDE_FORMATTER)\n",
    "\n",
    "\n",
    "def make_map(projection=ccrs.PlateCarree()):\n",
    "    fig, ax = plt.subplots(\n",
    "        figsize=(6, 6),\n",
    "        subplot_kw={'projection': projection}\n",
    "    )\n",
    "    gl = ax.gridlines(draw_labels=True)\n",
    "    gl.xlabels_top = gl.ylabels_right = False\n",
    "    gl.xformatter = LONGITUDE_FORMATTER\n",
    "    gl.yformatter = LATITUDE_FORMATTER\n",
    "    return fig, ax"
   ]
  },
  {
   "cell_type": "markdown",
   "metadata": {
    "slideshow": {
     "slide_type": "slide"
    }
   },
   "source": [
    "## GSHHS"
   ]
  },
  {
   "cell_type": "code",
   "execution_count": null,
   "metadata": {
    "slideshow": {
     "slide_type": "fragment"
    }
   },
   "outputs": [],
   "source": [
    "import cartopy.feature as cfeature\n",
    "\n",
    "extent = [-39, -38.25, -13.25, -12.5]\n",
    "coastline = cfeature.GSHHSFeature(scale='full')\n",
    "\n",
    "fig, ax = make_map(projection=ccrs.PlateCarree())\n",
    "ax.set_extent(extent)\n",
    "art = ax.add_feature(coastline)"
   ]
  },
  {
   "cell_type": "markdown",
   "metadata": {
    "slideshow": {
     "slide_type": "slide"
    }
   },
   "source": [
    "## Quando esses dados não bastam..."
   ]
  },
  {
   "cell_type": "code",
   "execution_count": null,
   "metadata": {
    "scrolled": false,
    "slideshow": {
     "slide_type": "fragment"
    }
   },
   "outputs": [],
   "source": [
    "fig, ax = make_map(projection=ccrs.PlateCarree())\n",
    "ax.set_extent(extent)\n",
    "\n",
    "shp = shapereader.Reader('./data/BTS/BTS.shp')\n",
    "for record, geometry in zip(shp.records(), shp.geometries()):\n",
    "    ax.add_geometries([geometry], ccrs.PlateCarree(), facecolor='w',\n",
    "                      edgecolor='black')"
   ]
  },
  {
   "cell_type": "markdown",
   "metadata": {
    "slideshow": {
     "slide_type": "slide"
    }
   },
   "source": [
    "## Plotando seus dados"
   ]
  },
  {
   "cell_type": "code",
   "execution_count": null,
   "metadata": {
    "slideshow": {
     "slide_type": "slide"
    }
   },
   "outputs": [],
   "source": [
    "from netCDF4 import Dataset\n",
    "\n",
    "with Dataset('data/sea_water_temperature.nc') as nc:\n",
    "    lat = nc['lat'][:]\n",
    "    lon = nc['lon'][:]\n",
    "    temp = nc['t_an'][:]\n",
    "\n",
    "lon, lat, np.meshgrid(lon, lat)\n",
    "\n",
    "fig, ax = plt.subplots(figsize=(12, 10),\n",
    "                       subplot_kw={'projection': ccrs.Robinson()})\n",
    "ax.add_feature(cfeature.LAND, facecolor='0.75')\n",
    "cs = ax.pcolormesh(lon, lat, temp,\n",
    "                   transform=ccrs.PlateCarree())\n",
    "c = ax.coastlines()"
   ]
  },
  {
   "cell_type": "markdown",
   "metadata": {
    "slideshow": {
     "slide_type": "slide"
    }
   },
   "source": [
    "## Exercício:\n",
    "\n",
    "Use o módulo `cmocean` e refaça a figura um usando outro colormap."
   ]
  },
  {
   "cell_type": "markdown",
   "metadata": {
    "slideshow": {
     "slide_type": "fragment"
    }
   },
   "source": [
    "```python\n",
    "from cmocean import cm\n",
    "cm.<shift+tab>\n",
    "```"
   ]
  },
  {
   "cell_type": "markdown",
   "metadata": {
    "slideshow": {
     "slide_type": "slide"
    }
   },
   "source": [
    "## Exercício:\n",
    "\n",
    "Plotar os dados do arquivo `lat_long_BTS.xlsx` no mapa abaixo."
   ]
  },
  {
   "cell_type": "code",
   "execution_count": null,
   "metadata": {
    "scrolled": true,
    "slideshow": {
     "slide_type": "slide"
    }
   },
   "outputs": [],
   "source": [
    "import pandas as pd\n",
    "\n",
    "df = pd.read_excel('data/rivers_BTS.xlsx')\n",
    "\n",
    "df.head()"
   ]
  },
  {
   "cell_type": "code",
   "execution_count": null,
   "metadata": {
    "scrolled": true,
    "slideshow": {
     "slide_type": "slide"
    }
   },
   "outputs": [],
   "source": [
    "from pyproj import Proj\n",
    "\n",
    "utm = Proj(\"+proj=utm +zone=24L, +south +ellps=WGS84 \"\n",
    "           \"+datum=WGS84 +units=m +no_defs\")\n",
    "\n",
    "df['lon_x'], df['lat_y'] = utm(df['lon'].values,\n",
    "                               df['lat'].values, inverse=True)\n",
    "df.head()"
   ]
  },
  {
   "cell_type": "code",
   "execution_count": null,
   "metadata": {
    "slideshow": {
     "slide_type": "slide"
    }
   },
   "outputs": [],
   "source": [
    "fig, ax = make_map(projection=ccrs.PlateCarree())\n",
    "ax.set_extent(extent)\n",
    "\n",
    "shp = shapereader.Reader('./data/BTS/BTS.shp')\n",
    "for record, geometry in zip(shp.records(), shp.geometries()):\n",
    "    ax.add_geometries([geometry], ccrs.PlateCarree(),\n",
    "                      facecolor='w',\n",
    "                      edgecolor='black')"
   ]
  },
  {
   "cell_type": "markdown",
   "metadata": {
    "slideshow": {
     "slide_type": "slide"
    }
   },
   "source": [
    "## Mapas interativos\n",
    "\n",
    "https://ocefpaf.github.io/python4oceanographers/blog/2015/11/02/icons/"
   ]
  },
  {
   "cell_type": "code",
   "execution_count": null,
   "metadata": {
    "slideshow": {
     "slide_type": "slide"
    }
   },
   "outputs": [],
   "source": [
    "import folium\n",
    "\n",
    "lon, lat = -86.276, 30.935 \n",
    "zoom_start = 5\n",
    "\n",
    "mapa = folium.Map(location=[lat, lon], tiles=\"Cartodb Positron\",\n",
    "                  zoom_start=zoom_start)\n",
    "mapa"
   ]
  },
  {
   "cell_type": "code",
   "execution_count": null,
   "metadata": {
    "slideshow": {
     "slide_type": "slide"
    }
   },
   "outputs": [],
   "source": [
    "import json\n",
    "\n",
    "with open('data/stations.geojson') as f:\n",
    "    stations = json.load(f)\n",
    "\n",
    "with open('data/hfradar.geojson') as f:\n",
    "    hfradar = json.load(f)"
   ]
  },
  {
   "cell_type": "code",
   "execution_count": null,
   "metadata": {
    "slideshow": {
     "slide_type": "slide"
    }
   },
   "outputs": [],
   "source": [
    "icon_size = (14, 14)\n",
    "\n",
    "for feature in stations['features']:\n",
    "    lon, lat = feature['geometry']['coordinates']\n",
    "    icon_url = feature['properties']['icon']\n",
    "    popup = feature['properties']['popupcontent']\n",
    "    \n",
    "    icon = folium.features.CustomIcon(icon_url,\n",
    "                                      icon_size=(14, 14))\n",
    "    \n",
    "    marker = folium.map.Marker([lat, lon], icon=icon,\n",
    "                               popup=folium.map.Popup(popup))\n",
    "    mapa.add_child(marker)"
   ]
  },
  {
   "cell_type": "code",
   "execution_count": null,
   "metadata": {
    "slideshow": {
     "slide_type": "slide"
    }
   },
   "outputs": [],
   "source": [
    "style_function = lambda feature: {\n",
    "    'fillColor': '#DEFFDE',\n",
    "    'color': '#AECCAE',\n",
    "    'weight': 1,\n",
    "    'opacity': 1,\n",
    "}\n",
    "\n",
    "for feature in hfradar['features']:\n",
    "    if feature['geometry']['type'] == 'Point':\n",
    "        lon, lat = feature['geometry']['coordinates']\n",
    "        icon_url = feature['properties']['icon']\n",
    "        popup = feature['properties']['popupcontent']\n",
    "        \n",
    "        icon = folium.features.CustomIcon(icon_url,\n",
    "                                          icon_size=(14, 14))\n",
    "        marker = folium.Marker([lat, lon], icon=icon,\n",
    "                                   popup=folium.Popup(popup))\n",
    "        mapa.add_child(marker)\n",
    "    elif feature['geometry']['type'] == 'Polygon':\n",
    "        gjson = folium.features.GeoJson(feature, style_function=style_function)\n",
    "        \n",
    "        mapa.add_child(gjson)"
   ]
  },
  {
   "cell_type": "code",
   "execution_count": null,
   "metadata": {
    "slideshow": {
     "slide_type": "slide"
    }
   },
   "outputs": [],
   "source": [
    "mapa"
   ]
  }
 ],
 "metadata": {
  "celltoolbar": "Slideshow",
  "kernelspec": {
   "display_name": "Python 3",
   "language": "python",
   "name": "python3"
  },
  "language_info": {
   "codemirror_mode": {
    "name": "ipython",
    "version": 3
   },
   "file_extension": ".py",
   "mimetype": "text/x-python",
   "name": "python",
   "nbconvert_exporter": "python",
   "pygments_lexer": "ipython3",
   "version": "3.6.5"
  }
 },
 "nbformat": 4,
 "nbformat_minor": 1
}
