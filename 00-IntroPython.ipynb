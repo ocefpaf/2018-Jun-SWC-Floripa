{
 "cells": [
  {
   "cell_type": "markdown",
   "metadata": {
    "slideshow": {
     "slide_type": "slide"
    }
   },
   "source": [
    "- A linguagem Python é:\n",
    "  - interpretada (não compilada)\n",
    "  - *dynamically typed* (não *statically-typed*)\n",
    "  - Orientada à `objetos` e `funcional`\n",
    "  - *open source* com de uso licença livre"
   ]
  },
  {
   "cell_type": "markdown",
   "metadata": {
    "slideshow": {
     "slide_type": "slide"
    }
   },
   "source": [
    "## Devido à licensa OS temos muitas alternativas de intalação\n",
    "\n",
    "- [Canopy](https://www.enthought.com/products/canopy/)\n",
    "- [EPD](https://www.enthought.com/products/epd/)\n",
    "- [Spyder](https://pythonhosted.org/spyder/)\n",
    "- [PythonXY](https://python-xy.github.io/downloads.html)\n",
    "- [Anaconda distribution](https://www.continuum.io/downloads)\n",
    "\n",
    "E provavelmente o *packager manager* do seu sistema."
   ]
  },
  {
   "cell_type": "markdown",
   "metadata": {
    "slideshow": {
     "slide_type": "slide"
    }
   },
   "source": [
    "## Eu recomendo: [Anaconda/mini-conda](http://conda.pydata.org/miniconda.html)\n",
    "\n",
    "```bash\n",
    "URL=http://bit.ly/miniconda\n",
    "wget $URL -O miniconda.sh\n",
    "bash miniconda.sh -b -p $HOME/miniconda\n",
    "export PATH=\"$HOME/miniconda/bin:$PATH\"\n",
    "conda update conda\n",
    "conda config --add conda-forge --force\n",
    "```\n",
    "\n",
    "No Linux basta copiar e colar essa 6 linhas e pronto!"
   ]
  },
  {
   "cell_type": "markdown",
   "metadata": {
    "slideshow": {
     "slide_type": "slide"
    }
   },
   "source": [
    "## Python é uma linguagem de propósito geral\n",
    "\n",
    "- Scientific:\n",
    "    - [Matplotlib](http://matplotlib.sourceforge.net)\n",
    "    - [NumPy](http://docs.scipy.org/doc/numpy/reference)\n",
    "    - [SciPy](http://docs.scipy.org/doc/scipy/reference)\n",
    "    - [IPython](http://ipython.org/)\n",
    "\n",
    "- Oceanography\n",
    "    - [gsw](https://pypi.python.org/pypi/gsw/)\n",
    "    - [seawater](https://pypi.python.org/pypi/seawater/)\n",
    "    - [airsea](https://pypi.python.org/pypi/airsea/0.0.1)\n",
    "    - [oceans](https://pypi.python.org/pypi/oceans)\n",
    "    - [ctd](https://pypi.python.org/pypi/ctd)\n",
    "    - [iris](http://scitools.org.uk/iris/docs/latest/index.html)"
   ]
  },
  {
   "cell_type": "markdown",
   "metadata": {
    "slideshow": {
     "slide_type": "slide"
    }
   },
   "source": [
    "### Namespaces\n",
    "\n",
    "**Direto da wikipedia:**\n",
    "\n",
    "*A namespace (sometimes also called a name scope) is an abstract container or\n",
    "environment created to hold a logical grouping of unique identifiers or symbols\n",
    "(i.e., names).*\n",
    "\n",
    "**O que interessa para nós?**\n",
    "\n",
    "- Namespaces mantém o código organizado.\n",
    "- Evita conflitos gerados por funções de mesmo nome.\n",
    "- Torna o código \"declarativo\" e consequentemente mais legível."
   ]
  },
  {
   "cell_type": "markdown",
   "metadata": {
    "slideshow": {
     "slide_type": "slide"
    }
   },
   "source": [
    "**Matlab vs Python (Namespaces)**\n",
    "\n",
    "Matlab:\n",
    "\n",
    "```matlab\n",
    "w1 = window(@gausswin, N, 2.5)\n",
    "% Opa! O resultados é diferente do que\n",
    "% eu esperava. Argh, a minha função\n",
    "% window está abaixo da original do\n",
    "% Matlab no \"path\".\n",
    "```\n",
    "\n",
    "Python:\n",
    "\n",
    "```python\n",
    "from oceans.timeseries import window\n",
    "w1 = window(N, 2.5, type='gausswin')\n",
    "# Sem dúvida essa era a que eu queria!\n",
    "```"
   ]
  },
  {
   "cell_type": "markdown",
   "metadata": {
    "slideshow": {
     "slide_type": "slide"
    }
   },
   "source": [
    "## Módulos"
   ]
  },
  {
   "cell_type": "markdown",
   "metadata": {
    "slideshow": {
     "slide_type": "fragment"
    }
   },
   "source": [
    "No `Python` temos que importar (declarar) tudo que vamos\n",
    "utilizar."
   ]
  },
  {
   "cell_type": "code",
   "execution_count": null,
   "metadata": {
    "scrolled": false,
    "slideshow": {
     "slide_type": "fragment"
    }
   },
   "outputs": [],
   "source": [
    "import this"
   ]
  },
  {
   "cell_type": "markdown",
   "metadata": {
    "slideshow": {
     "slide_type": "slide"
    }
   },
   "source": [
    "## Estilos de \"se importar\""
   ]
  },
  {
   "cell_type": "code",
   "execution_count": null,
   "metadata": {
    "slideshow": {
     "slide_type": "fragment"
    }
   },
   "outputs": [],
   "source": [
    "import math\n",
    "\n",
    "math.cos(math.pi)"
   ]
  },
  {
   "cell_type": "code",
   "execution_count": null,
   "metadata": {
    "slideshow": {
     "slide_type": "fragment"
    }
   },
   "outputs": [],
   "source": [
    "from math import sin, pi\n",
    "\n",
    "sin(pi)  # Desafio explique essa resultado!"
   ]
  },
  {
   "cell_type": "code",
   "execution_count": null,
   "metadata": {
    "slideshow": {
     "slide_type": "fragment"
    }
   },
   "outputs": [],
   "source": [
    "import numpy\n",
    "\n",
    "# O que está diferente do resultado acima?\n",
    "numpy.sin([numpy.pi])"
   ]
  },
  {
   "cell_type": "markdown",
   "metadata": {
    "slideshow": {
     "slide_type": "slide"
    }
   },
   "source": [
    "## Exercício:\n",
    "\n",
    "Explique o que está acontencendo nas células abaixo."
   ]
  },
  {
   "cell_type": "code",
   "execution_count": null,
   "metadata": {
    "slideshow": {
     "slide_type": "fragment"
    }
   },
   "outputs": [],
   "source": [
    "sum(range(5), -1)"
   ]
  },
  {
   "cell_type": "code",
   "execution_count": null,
   "metadata": {
    "slideshow": {
     "slide_type": "fragment"
    }
   },
   "outputs": [],
   "source": [
    "from numpy import *\n",
    "\n",
    "sum(range(5), -1)"
   ]
  },
  {
   "cell_type": "markdown",
   "metadata": {
    "slideshow": {
     "slide_type": "slide"
    }
   },
   "source": [
    "## Tipos de objetos"
   ]
  },
  {
   "cell_type": "code",
   "execution_count": null,
   "metadata": {
    "slideshow": {
     "slide_type": "fragment"
    }
   },
   "outputs": [],
   "source": [
    "Sal, Temp = 35.1, 17\n",
    "\n",
    "print(type(Sal))\n",
    "print(type(Temp))"
   ]
  },
  {
   "cell_type": "code",
   "execution_count": null,
   "metadata": {
    "scrolled": true,
    "slideshow": {
     "slide_type": "fragment"
    }
   },
   "outputs": [],
   "source": [
    "u, v = 5., -5.\n",
    "U = u + 1j*v\n",
    "\n",
    "print(type(U))\n",
    "\n",
    "msg = 'OO em ação mostrando números reais {0} e imaginários {1}'.format\n",
    "\n",
    "print(msg(U.real, U.imag))"
   ]
  },
  {
   "cell_type": "markdown",
   "metadata": {
    "slideshow": {
     "slide_type": "slide"
    }
   },
   "source": [
    "## Exercício:\n",
    "\n",
    "Calcular o vetor é o ângulo formado por `u+iv`."
   ]
  },
  {
   "cell_type": "markdown",
   "metadata": {
    "slideshow": {
     "slide_type": "fragment"
    }
   },
   "source": [
    "```python\n",
    "import numpy as np\n",
    "\n",
    "np.abs(<shift+tab>), np.rad2deg(<shift+tab>)\n",
    "```"
   ]
  },
  {
   "cell_type": "markdown",
   "metadata": {
    "slideshow": {
     "slide_type": "slide"
    }
   },
   "source": [
    "## Variáveis lógicas (`bool`)"
   ]
  },
  {
   "cell_type": "code",
   "execution_count": null,
   "metadata": {
    "slideshow": {
     "slide_type": "fragment"
    }
   },
   "outputs": [],
   "source": [
    "False == 0"
   ]
  },
  {
   "cell_type": "code",
   "execution_count": null,
   "metadata": {
    "slideshow": {
     "slide_type": "fragment"
    }
   },
   "outputs": [],
   "source": [
    "True == 1"
   ]
  },
  {
   "cell_type": "code",
   "execution_count": null,
   "metadata": {
    "slideshow": {
     "slide_type": "fragment"
    }
   },
   "outputs": [],
   "source": [
    "True == 2"
   ]
  },
  {
   "cell_type": "code",
   "execution_count": null,
   "metadata": {
    "slideshow": {
     "slide_type": "fragment"
    }
   },
   "outputs": [],
   "source": [
    "False == 1"
   ]
  },
  {
   "cell_type": "markdown",
   "metadata": {
    "slideshow": {
     "slide_type": "slide"
    }
   },
   "source": [
    "## Strings"
   ]
  },
  {
   "cell_type": "code",
   "execution_count": null,
   "metadata": {
    "slideshow": {
     "slide_type": "fragment"
    }
   },
   "outputs": [],
   "source": [
    "print('Texto simples com \"aspas\" duplas.\\n')\n",
    "\n",
    "print(\"'Texto simples com 'aspas' simples.\\n\")\n",
    "\n",
    "print(\"\"\"Texto complexo com quebra\n",
    "de linha, aspas \"duplas\" e 'simples'.\\n\"\"\")\n",
    "\n",
    "print(r\"Texto \\n 'cru', ideal para Latex $^\\circ$.\")"
   ]
  },
  {
   "cell_type": "markdown",
   "metadata": {
    "slideshow": {
     "slide_type": "slide"
    }
   },
   "source": [
    "## String Methods"
   ]
  },
  {
   "cell_type": "code",
   "execution_count": null,
   "metadata": {
    "slideshow": {
     "slide_type": "fragment"
    }
   },
   "outputs": [],
   "source": [
    "text = 'Um Bom Aluno SEmpre...'\n",
    "\n",
    "text.lower()"
   ]
  },
  {
   "cell_type": "code",
   "execution_count": null,
   "metadata": {
    "slideshow": {
     "slide_type": "fragment"
    }
   },
   "outputs": [],
   "source": [
    "text.split()"
   ]
  },
  {
   "cell_type": "code",
   "execution_count": null,
   "metadata": {
    "slideshow": {
     "slide_type": "fragment"
    }
   },
   "outputs": [],
   "source": [
    "text.replace('Aluno', 'estudante')"
   ]
  },
  {
   "cell_type": "markdown",
   "metadata": {
    "slideshow": {
     "slide_type": "slide"
    }
   },
   "source": [
    "## Formatação da saída"
   ]
  },
  {
   "cell_type": "code",
   "execution_count": null,
   "metadata": {
    "slideshow": {
     "slide_type": "fragment"
    }
   },
   "outputs": [],
   "source": [
    "import numpy as np\n",
    "\n",
    "print('O valor de pi é {:.2f}'.format(np.pi))\n",
    "print('O valor de pi é {:.6f}'.format(np.pi))\n",
    "print('O valor de 10 x pi é {:0.2e}'.format(10*np.pi))"
   ]
  },
  {
   "cell_type": "markdown",
   "metadata": {
    "slideshow": {
     "slide_type": "slide"
    }
   },
   "source": [
    "## Slicing"
   ]
  },
  {
   "cell_type": "code",
   "execution_count": null,
   "metadata": {
    "slideshow": {
     "slide_type": "fragment"
    }
   },
   "outputs": [],
   "source": [
    "T = [17.4, 18.9, 19.5, 22.1, 23.2]\n",
    "\n",
    "T[0], T[-1]"
   ]
  },
  {
   "cell_type": "code",
   "execution_count": null,
   "metadata": {
    "slideshow": {
     "slide_type": "fragment"
    }
   },
   "outputs": [],
   "source": [
    "T[::-1], T[::2]"
   ]
  },
  {
   "cell_type": "code",
   "execution_count": null,
   "metadata": {
    "slideshow": {
     "slide_type": "fragment"
    }
   },
   "outputs": [],
   "source": [
    "T[1:3]"
   ]
  },
  {
   "cell_type": "code",
   "execution_count": null,
   "metadata": {
    "slideshow": {
     "slide_type": "fragment"
    }
   },
   "outputs": [],
   "source": [
    "T[2:]"
   ]
  },
  {
   "cell_type": "markdown",
   "metadata": {
    "slideshow": {
     "slide_type": "slide"
    }
   },
   "source": [
    "## Trabalhando com listas:\n",
    "\n",
    "- `.append`\n",
    "- `.extend`\n",
    "- `.sort`\n",
    "- `.remove`\n",
    "- `.reverse`\n",
    "- `.insert`"
   ]
  },
  {
   "cell_type": "code",
   "execution_count": null,
   "metadata": {
    "slideshow": {
     "slide_type": "slide"
    }
   },
   "outputs": [],
   "source": [
    "lista = list(range(10))\n",
    "print(lista)\n",
    "\n",
    "lista.append(10)\n",
    "print(lista)\n",
    "\n",
    "lista.insert(4, 11)\n",
    "print(lista)\n",
    "\n",
    "lista.sort()\n",
    "print(lista)\n",
    "\n",
    "lista.extend(['elemento extra'])\n",
    "print(lista)"
   ]
  },
  {
   "cell_type": "markdown",
   "metadata": {
    "slideshow": {
     "slide_type": "slide"
    }
   },
   "source": [
    "## Dicionários"
   ]
  },
  {
   "cell_type": "code",
   "execution_count": null,
   "metadata": {
    "slideshow": {
     "slide_type": "fragment"
    }
   },
   "outputs": [],
   "source": [
    "ctd = {\n",
    "    'S': [35.5, 34.76, 33.2],\n",
    "    'T': [17.4, 18.9, 19.5],\n",
    "    'AOU': [320, 330, 350],\n",
    "}\n",
    "\n",
    "\n",
    "ctd.keys(), ctd.values()"
   ]
  },
  {
   "cell_type": "markdown",
   "metadata": {
    "slideshow": {
     "slide_type": "slide"
    }
   },
   "source": [
    "## Sets"
   ]
  },
  {
   "cell_type": "code",
   "execution_count": null,
   "metadata": {
    "slideshow": {
     "slide_type": "fragment"
    }
   },
   "outputs": [],
   "source": [
    "set(['joseph', 'maria', 'pedro', 'maria'])"
   ]
  },
  {
   "cell_type": "code",
   "execution_count": null,
   "metadata": {
    "slideshow": {
     "slide_type": "fragment"
    }
   },
   "outputs": [],
   "source": [
    "s0 = set(['joseph', 'maria', 'pedro', 'maria'])\n",
    "s1 = set(['joseph', 'maria', 'pedro', 'penetra'])\n",
    "\n",
    "s0.symmetric_difference(s1)"
   ]
  },
  {
   "cell_type": "markdown",
   "metadata": {
    "slideshow": {
     "slide_type": "slide"
    }
   },
   "source": [
    "## Exercício:\n",
    "\n",
    "Leia o código abaixo e explique com suas palavras as diferenças."
   ]
  },
  {
   "cell_type": "markdown",
   "metadata": {
    "slideshow": {
     "slide_type": "fragment"
    }
   },
   "source": [
    "**Matlab vs Python (loops)**\n",
    "\n",
    "Matlab\n",
    "\n",
    "```python\n",
    "for k = 1:length(files)\n",
    "    files(k).name\n",
    "end\n",
    "```\n",
    "\n",
    "\n",
    "Python\n",
    "\n",
    "```python\n",
    "for fname in lista:\n",
    "    print(fname)\n",
    "```"
   ]
  },
  {
   "cell_type": "markdown",
   "metadata": {
    "slideshow": {
     "slide_type": "slide"
    }
   },
   "source": [
    "- Ajuda extra:\n",
    "    - [PyAOS](http://pyaos.johnny-lin.com)\n",
    "    - [python4oceanographers](http://ocefpaf.github.io/python4oceanographers/)\n",
    "    - [earthpy](http://earthpy.org/)\n",
    "    - [Sotware Carpentry](http://software-carpentry.org/index.html)\n",
    "    - [matlab-numpy](http://mathesaurus.sourceforge.net/matlab-numpy.html)"
   ]
  }
 ],
 "metadata": {
  "anaconda-cloud": {},
  "celltoolbar": "Slideshow",
  "kernelspec": {
   "display_name": "Python 3",
   "language": "python",
   "name": "python3"
  },
  "language_info": {
   "codemirror_mode": {
    "name": "ipython",
    "version": 3
   },
   "file_extension": ".py",
   "mimetype": "text/x-python",
   "name": "python",
   "nbconvert_exporter": "python",
   "pygments_lexer": "ipython3",
   "version": "3.6.5"
  }
 },
 "nbformat": 4,
 "nbformat_minor": 1
}
